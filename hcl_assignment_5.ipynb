{
  "cells": [
    {
      "cell_type": "markdown",
      "metadata": {
        "id": "view-in-github",
        "colab_type": "text"
      },
      "source": [
        "<a href=\"https://colab.research.google.com/github/nithin-reddy45/ML-Projects/blob/main/hcl_assignment_5.ipynb\" target=\"_parent\"><img src=\"https://colab.research.google.com/assets/colab-badge.svg\" alt=\"Open In Colab\"/></a>"
      ]
    },
    {
      "cell_type": "code",
      "execution_count": null,
      "id": "cc4fa925-e99c-40a4-a28a-03a14242680c",
      "metadata": {
        "id": "cc4fa925-e99c-40a4-a28a-03a14242680c",
        "outputId": "4004fa7c-9c44-4bc2-af36-036e938f551e"
      },
      "outputs": [
        {
          "name": "stdout",
          "output_type": "stream",
          "text": [
            "[{'name': 'Nithin', 'age': 39}, {'name': 'Shankar', 'age': 36}, {'name': 'Harsha', 'age': 33}]\n"
          ]
        }
      ],
      "source": [
        "employees=[\n",
        "    {\"name\":\"Nithin\",\"age\":39},\n",
        "    {\"name\":\"Karthik\",\"age\":28},\n",
        "    {\"name\":\"Shankar\",\"age\":36},\n",
        "    {\"name\":\"Harsha\",\"age\":33},\n",
        "]\n",
        "thirty_years_old_employees=list(filter(lambda employees:employees[\"age\"]>30,employees))\n",
        "print(thirty_years_old_employees)"
      ]
    },
    {
      "cell_type": "code",
      "execution_count": null,
      "id": "0eea83a3-0f1d-4e5d-9dd7-585da5eb2409",
      "metadata": {
        "id": "0eea83a3-0f1d-4e5d-9dd7-585da5eb2409",
        "outputId": "ea48c46a-75bc-4ee5-8b17-0d8f2fcf050e"
      },
      "outputs": [
        {
          "name": "stdout",
          "output_type": "stream",
          "text": [
            "[{'productname': 'mobile', 'price': 18000.0}, {'productname': 'laptop', 'price': 67500.0}, {'productname': 'fridge', 'price': 13500.0}, {'productname': 'air conditioner', 'price': 27000.0}]\n"
          ]
        }
      ],
      "source": [
        "product_list = [\n",
        "    {\"productname\": \"mobile\", \"price\": 20000},\n",
        "    {\"productname\": \"laptop\", \"price\": 75000},\n",
        "    {\"productname\": \"fridge\", \"price\": 15000},\n",
        "    {\"productname\": \"air conditioner\", \"price\": 30000}\n",
        "]\n",
        "after_ten_percent_discount = list(map(lambda product: {\"productname\": product[\"productname\"], \"price\": product[\"price\"] - product[\"price\"] * 0.1}, product_list))\n",
        "print(after_ten_percent_discount)\n"
      ]
    },
    {
      "cell_type": "code",
      "execution_count": null,
      "id": "019a07cc-50c1-47d1-8ab9-0f71d862ab8b",
      "metadata": {
        "id": "019a07cc-50c1-47d1-8ab9-0f71d862ab8b",
        "outputId": "49d58d30-e979-4559-9147-b0aeec5b5a2a"
      },
      "outputs": [
        {
          "name": "stdout",
          "output_type": "stream",
          "text": [
            "[24.88888888888889, 1.3888888888888888, -4.500000000000001, 3.4999999999999987, 37.5, 17.5]\n"
          ]
        }
      ],
      "source": [
        "fahrenheit_temperature=[76.8,34.5,23.9,38.3,99.5,63.5]\n",
        "celsius=list(map(lambda fahrenheit:(fahrenheit-32)*(5/9),fahrenheit_temperature))\n",
        "print(celsius)"
      ]
    },
    {
      "cell_type": "code",
      "execution_count": null,
      "id": "a2d3ca2b-04b1-48fa-bce3-03c4a715c708",
      "metadata": {
        "id": "a2d3ca2b-04b1-48fa-bce3-03c4a715c708",
        "outputId": "7211ada9-e6c0-4dc8-ac0b-4e32c8f916f7"
      },
      "outputs": [
        {
          "name": "stdout",
          "output_type": "stream",
          "text": [
            "['2024/03/27', '2005/04/09', '2005/07/09', '2007/11/07', '2009/12/13', '2020/11/13', '2022/12/11']\n"
          ]
        }
      ],
      "source": [
        "dates=[\"27-03-2024\",\"09-04-2005\",\"09-07-2005\",\"07-11-2007\",\"13-12-2009\",\"13-11-2020\",\"11-12-2022\"]\n",
        "updated_dateformats=list(map(lambda date:date[6:]+\"/\"+date[3:5]+\"/\"+date[:2],dates))\n",
        "print(updated_dateformats)"
      ]
    },
    {
      "cell_type": "code",
      "execution_count": null,
      "id": "25a007d7-65f7-41e7-b86e-db6028c068e6",
      "metadata": {
        "id": "25a007d7-65f7-41e7-b86e-db6028c068e6",
        "outputId": "165dbf66-7ee7-47c6-85dc-fd1232e1c9f7"
      },
      "outputs": [
        {
          "name": "stdout",
          "output_type": "stream",
          "text": [
            "[1, 4, 9, 16, 25, 36, 49, 64, 81]\n"
          ]
        }
      ],
      "source": [
        "numbers=[1,2,3,4,5,6,7,8,9]\n",
        "square=list(map(lambda numbers:numbers**2,numbers))\n",
        "print(square)"
      ]
    },
    {
      "cell_type": "code",
      "execution_count": null,
      "id": "4a1acb77-6ede-4d53-921c-aaff91af0b2c",
      "metadata": {
        "id": "4a1acb77-6ede-4d53-921c-aaff91af0b2c",
        "outputId": "dda4255b-e8bc-4d75-dba6-298ad5d06e06"
      },
      "outputs": [
        {
          "name": "stdout",
          "output_type": "stream",
          "text": [
            "['fridge', 'air conditioner', 'mobile', 'laptop']\n"
          ]
        }
      ],
      "source": [
        "product_list=[\"  fridge\",\"air conditioner   \",\"   mobile   \",\"laptop\"]\n",
        "after_removing_trailing_and_leading_spaces=list(map(lambda product:product.strip(),product_list))\n",
        "print(after_removing_trailing_and_leading_spaces)"
      ]
    },
    {
      "cell_type": "code",
      "execution_count": null,
      "id": "393c9aef-d56f-431d-9067-152a65e59d1b",
      "metadata": {
        "id": "393c9aef-d56f-431d-9067-152a65e59d1b",
        "outputId": "2d1c27cd-6937-4323-b1f8-0001ca3c3f86"
      },
      "outputs": [
        {
          "name": "stdout",
          "output_type": "stream",
          "text": [
            "['harsha@gmail.com', 'shankar@gmail.com', 'nithin@yahoo.com']\n"
          ]
        }
      ],
      "source": [
        "emails=[\"harsha@gmail.com\",\"shankar@gmail.com\",\"nithin@yahoo.com\",\"karthikgmail.com\",\"saiyahoo.com\"]\n",
        "valid_emails=list(filter(lambda emails: \"@\" in emails ,emails))\n",
        "print(valid_emails)"
      ]
    },
    {
      "cell_type": "code",
      "execution_count": null,
      "id": "e597a794-203b-4b2a-8d0a-b47acf3d4d2a",
      "metadata": {
        "id": "e597a794-203b-4b2a-8d0a-b47acf3d4d2a",
        "outputId": "83afdd45-1efa-4223-d71b-32f03ca255ce"
      },
      "outputs": [
        {
          "name": "stdout",
          "output_type": "stream",
          "text": [
            "['eligible', 'not eligible', 'eligible', 'not eligible', 'eligible', 'eligible', 'eligible', 'eligible']\n"
          ]
        }
      ],
      "source": [
        "age=[29,18,37,14,19,47,23,44]\n",
        "vote_eligibility=list(map(lambda age:\"eligible\" if age>18 else \"not eligible\",age))\n",
        "print(vote_eligibility)"
      ]
    },
    {
      "cell_type": "code",
      "execution_count": null,
      "id": "60084d29-e505-4200-b23a-ddaad6aeb310",
      "metadata": {
        "id": "60084d29-e505-4200-b23a-ddaad6aeb310",
        "outputId": "077fa603-ca2d-4864-9c9e-6769251aa207"
      },
      "outputs": [
        {
          "name": "stdout",
          "output_type": "stream",
          "text": [
            "[70350.0, 47250.0, 25200.0, 73500.0, 68250.0, 77700.0]\n"
          ]
        }
      ],
      "source": [
        "salaries=[67000,45000,24000,70000,65000,74000]\n",
        "increased_salaries=list(map(lambda salaries:salaries+0.05*(salaries),salaries))\n",
        "print(increased_salaries)"
      ]
    },
    {
      "cell_type": "code",
      "execution_count": null,
      "id": "8dba3169-ea60-4fbc-a91f-a78a43bfac97",
      "metadata": {
        "id": "8dba3169-ea60-4fbc-a91f-a78a43bfac97",
        "outputId": "dc9dcbca-09e9-48ec-bed0-e39735276f7d"
      },
      "outputs": [
        {
          "name": "stdout",
          "output_type": "stream",
          "text": [
            "['not divisible', 'divisible', 'not divisible', 'divisible', 'not divisible', 'divisible', 'not divisible', 'divisible', 'not divisible']\n"
          ]
        }
      ],
      "source": [
        "numbers=[1,2,3,4,5,6,7,8,9]\n",
        "checking_numbers=list(map(lambda numbers:\"divisible\" if numbers%2==0 else \"not divisible\",numbers))\n",
        "print(checking_numbers)"
      ]
    },
    {
      "cell_type": "code",
      "execution_count": null,
      "id": "1c627c20-9eb1-442c-8411-15fbebf9d491",
      "metadata": {
        "id": "1c627c20-9eb1-442c-8411-15fbebf9d491"
      },
      "outputs": [],
      "source": []
    }
  ],
  "metadata": {
    "kernelspec": {
      "display_name": "Python [conda env:base] *",
      "language": "python",
      "name": "conda-base-py"
    },
    "language_info": {
      "codemirror_mode": {
        "name": "ipython",
        "version": 3
      },
      "file_extension": ".py",
      "mimetype": "text/x-python",
      "name": "python",
      "nbconvert_exporter": "python",
      "pygments_lexer": "ipython3",
      "version": "3.12.7"
    },
    "colab": {
      "provenance": [],
      "include_colab_link": true
    }
  },
  "nbformat": 4,
  "nbformat_minor": 5
}